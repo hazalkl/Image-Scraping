{
 "metadata": {
  "language_info": {
   "codemirror_mode": {
    "name": "ipython",
    "version": 3
   },
   "file_extension": ".py",
   "mimetype": "text/x-python",
   "name": "python",
   "nbconvert_exporter": "python",
   "pygments_lexer": "ipython3",
   "version": "3.8.8"
  },
  "orig_nbformat": 2,
  "kernelspec": {
   "name": "python388jvsc74a57bd0ff7cc315c7b59f66f0b51be8dcb3d2223cba5a64c84ae19e21877fcf1d65e294",
   "display_name": "Python 3.8.8 64-bit"
  }
 },
 "nbformat": 4,
 "nbformat_minor": 2,
 "cells": [
  {
   "cell_type": "code",
   "execution_count": 1,
   "metadata": {},
   "outputs": [],
   "source": [
    "import requests\n",
    "from bs4 import BeautifulSoup\n",
    "import os\n",
    "import lxml\n",
    "import time"
   ]
  },
  {
   "cell_type": "code",
   "execution_count": 2,
   "metadata": {},
   "outputs": [
    {
     "output_type": "execute_result",
     "data": {
      "text/plain": [
       "'c:\\\\Users\\\\hazal\\\\Desktop\\\\scraping exercise'"
      ]
     },
     "metadata": {},
     "execution_count": 2
    }
   ],
   "source": [
    "origin = os.getcwd()\n",
    "origin"
   ]
  },
  {
   "cell_type": "code",
   "execution_count": 3,
   "metadata": {},
   "outputs": [],
   "source": [
    "url_man = \"https://www.icemodelmgmt.com/en/category/57/erkek\""
   ]
  },
  {
   "cell_type": "code",
   "execution_count": 4,
   "metadata": {},
   "outputs": [],
   "source": [
    "def deletesim(images):\n",
    "    df = []\n",
    "    for image in images:\n",
    "        if image['src'] not in df:\n",
    "            df.append(image['src'])\n",
    "        else:\n",
    "            pass\n",
    "    return df"
   ]
  },
  {
   "cell_type": "code",
   "execution_count": 5,
   "metadata": {},
   "outputs": [],
   "source": [
    "def takelinks(url):\n",
    "    request = requests.get(url)\n",
    "    soup = BeautifulSoup(request.text, 'html.parser')\n",
    "    hrefs = soup.find_all('div', class_=\"thumbnail modelimage gt\")\n",
    "    links=[]\n",
    "    for i in range(len(hrefs)):\n",
    "        links.append(hrefs[i].select('a')[0]['href'])\n",
    "    return links"
   ]
  },
  {
   "cell_type": "code",
   "execution_count": 6,
   "metadata": {},
   "outputs": [],
   "source": [
    "def downimg(url, folder):\n",
    "    try:\n",
    "        os.mkdir(os.path.join(origin , folder))\n",
    "    except:\n",
    "        pass\n",
    "    os.chdir(os.path.join(origin, folder))\n",
    "    request = requests.get(url)\n",
    "    soup = BeautifulSoup(request.text, 'html.parser')\n",
    "    images = soup.find_all('img',attrs={\"alt\":url.split('/')[-1]})\n",
    "    dummy=0\n",
    "    df = deletesim(images)\n",
    "    print(\"writing:\", folder)\n",
    "    for l in df:\n",
    "        link = \"https://www.icemodelmgmt.com/\"+ l\n",
    "        for i in range(len(df)):\n",
    "            name = images[i]['alt']+'-'+str(dummy)\n",
    "            dummy=dummy+1\n",
    "                    \n",
    "            with open(name+'.jpg','wb') as f:\n",
    "                im = requests.get(link)\n",
    "                f.write(im.content)\n",
    "                #print(\"writing:\", name, link)\n",
    "            break \n",
    "                "
   ]
  },
  {
   "cell_type": "code",
   "execution_count": 7,
   "metadata": {},
   "outputs": [],
   "source": [
    "def downlinks(url):\n",
    "    for url in takelinks(url_man):\n",
    "        downimg(url,url.split('/')[-1])"
   ]
  },
  {
   "cell_type": "code",
   "execution_count": 8,
   "metadata": {},
   "outputs": [
    {
     "output_type": "stream",
     "name": "stdout",
     "text": [
      "writing: Aleksandr\n",
      "writing: Alexandre\n",
      "writing: Alexis\n",
      "writing: Andrej\n",
      "writing: Antonin\n",
      "writing: Arda-B\n",
      "writing: Aristomenis\n",
      "writing: Arno\n",
      "writing: Benjamin\n",
      "writing: Chris\n",
      "writing: Constantin\n",
      "writing: Cristian\n",
      "writing: Danas\n",
      "writing: Daniel\n",
      "writing: Daniel\n",
      "writing: Daniel-S\n",
      "writing: Danijel\n",
      "writing: Danny\n",
      "writing: David\n",
      "writing: David\n",
      "writing: Denys-Truten\n",
      "writing: Eddy\n",
      "writing: Egzon\n",
      "writing: Elian-E\n",
      "writing: Emanuel\n",
      "writing: Enes\n",
      "writing: Eric\n",
      "writing: Fatih-Hurkan\n",
      "writing: Filip\n",
      "writing: Filip-T\n",
      "writing: Flavio\n",
      "writing: Florian\n",
      "writing: Geti\n",
      "writing: Giovanni\n",
      "writing: Giuseppe\n",
      "writing: Glenn\n",
      "writing: Hamit\n",
      "writing: Hanbatu\n",
      "writing: Hector\n",
      "writing: Igor\n",
      "writing: Ivan\n",
      "writing: James\n",
      "writing: Jan\n",
      "writing: Jan-Lucas\n",
      "writing: Jeremy\n",
      "writing: Jeroen\n",
      "writing: Jesus\n",
      "writing: Joao\n",
      "writing: Jose\n",
      "writing: Jozef\n",
      "writing: Kajetan\n",
      "writing: Khephren\n",
      "writing: Laszlo\n",
      "writing: Laurens\n",
      "writing: Leandro-R\n",
      "writing: Lee\n",
      "writing: Lucien\n",
      "writing: Ludo\n",
      "writing: Luiz\n",
      "writing: Lukas\n",
      "writing: Mads\n",
      "writing: Manuel\n",
      "writing: Manuel\n",
      "writing: Manuel-R\n",
      "writing: Marcel\n",
      "writing: Marcelo\n",
      "writing: Marek\n",
      "writing: Marko\n",
      "writing: Matheus\n",
      "writing: Matt\n",
      "writing: Matthias-Sasha\n",
      "writing: Matthieu\n",
      "writing: Maxence\n",
      "writing: Mesut\n",
      "writing: Mev\n",
      "writing: Michael\n",
      "writing: Michael\n",
      "writing: Mika\n",
      "writing: Mutlu-M\n",
      "writing: Nektarios\n",
      "writing: Nicolas\n",
      "writing: Niels\n",
      "writing: Norbert\n",
      "writing: Octavian\n",
      "writing: Oleg\n",
      "writing: Orel\n",
      "writing: Petar\n",
      "writing: Peter\n",
      "writing: Radovan\n",
      "writing: Rafael-H\n",
      "writing: Razvan\n",
      "writing: Rene\n",
      "writing: Rene\n",
      "writing: Romain\n",
      "writing: Ronny\n",
      "writing: Roy\n",
      "writing: S.Ahmet\n",
      "writing: Sacha\n",
      "writing: Sandro\n",
      "writing: Sasha\n",
      "writing: Sebastian\n",
      "writing: Serdar-D\n",
      "writing: Sotirios\n",
      "writing: Spyros\n",
      "writing: Stefano\n",
      "writing: Sven\n",
      "writing: Thor\n",
      "writing: Timo-W\n",
      "writing: Tolgahan-S\n",
      "writing: Tom\n",
      "writing: Victor-FR\n",
      "writing: Vladislav\n",
      "writing: Williams\n",
      "writing: Wolf\n",
      "writing: Yannick\n",
      "Wall time: 6min 36s\n"
     ]
    }
   ],
   "source": [
    "%%time\n",
    "downlinks(url_man)\n"
   ]
  },
  {
   "cell_type": "code",
   "execution_count": null,
   "metadata": {},
   "outputs": [],
   "source": []
  }
 ]
}