{
 "metadata": {
  "language_info": {
   "codemirror_mode": {
    "name": "ipython",
    "version": 3
   },
   "file_extension": ".py",
   "mimetype": "text/x-python",
   "name": "python",
   "nbconvert_exporter": "python",
   "pygments_lexer": "ipython3",
   "version": "3.8.8"
  },
  "orig_nbformat": 2,
  "kernelspec": {
   "name": "python388jvsc74a57bd0ff7cc315c7b59f66f0b51be8dcb3d2223cba5a64c84ae19e21877fcf1d65e294",
   "display_name": "Python 3.8.8 64-bit"
  }
 },
 "nbformat": 4,
 "nbformat_minor": 2,
 "cells": [
  {
   "cell_type": "code",
   "execution_count": 2,
   "metadata": {},
   "outputs": [],
   "source": [
    "import requests\n",
    "from bs4 import BeautifulSoup\n",
    "import os\n",
    "import lxml\n",
    "import time"
   ]
  },
  {
   "cell_type": "code",
   "execution_count": 3,
   "metadata": {},
   "outputs": [
    {
     "output_type": "execute_result",
     "data": {
      "text/plain": [
       "'c:\\\\Users\\\\hazal\\\\Desktop\\\\scraping exercise'"
      ]
     },
     "metadata": {},
     "execution_count": 3
    }
   ],
   "source": [
    "origin = os.getcwd()\n",
    "origin"
   ]
  },
  {
   "cell_type": "code",
   "execution_count": 4,
   "metadata": {},
   "outputs": [],
   "source": [
    "url = \"https://www.anatoliacastajans.com/cast/category/\"\n",
    "url_base  = \"https://\" + url.split('/')[2]\n",
    "kadin= \"kadin/\"\n",
    "erkek= \"erkek/\"\n",
    "bebek= \"0-5-yas-bebek/\"\n",
    "cocuk= \"6-14-yas-cocuk/\"\n",
    "htps = \"https://\""
   ]
  },
  {
   "cell_type": "code",
   "execution_count": 5,
   "metadata": {},
   "outputs": [],
   "source": [
    "def takelinks(url):\n",
    "    request = requests.get(url)\n",
    "    soup = BeautifulSoup(request.text, 'html.parser')\n",
    "    hrefs = soup.find_all('div', class_=\"post-thumb\")\n",
    "    links=[]\n",
    "    for i in range(len(hrefs)):\n",
    "        links.append(hrefs[i].select('a')[0]['href'])\n",
    "    return links"
   ]
  },
  {
   "cell_type": "code",
   "execution_count": 6,
   "metadata": {},
   "outputs": [],
   "source": [
    "def downimg(url,folder,cat):\n",
    "    try:\n",
    "        os.mkdir(os.path.join(os.getcwd() , folder))\n",
    "    except:\n",
    "        pass\n",
    "    os.chdir(os.path.join(os.getcwd(), folder))\n",
    "    request = requests.get(url)\n",
    "    soup = BeautifulSoup(request.text, 'html.parser')\n",
    "    images = soup.find_all('img',class_= \"attachment-large size-large\")\n",
    "    dummy=0\n",
    "    for image in images:\n",
    "        dummy=dummy+1\n",
    "        name = url.split('/')[-2]+'-'+str(dummy)\n",
    "        link = image['src']\n",
    "        with open(name+'.jpg','wb') as f:\n",
    "            im = requests.get(link)\n",
    "            f.write(im.content)\n",
    "    print(f\"{dummy} images are downloaded.\")\n",
    "    print(\"-\"*20)\n",
    "    os.chdir(os.path.join(origin, str(cat)))\n",
    "            #print(\"writing:\", name)             "
   ]
  },
  {
   "cell_type": "code",
   "execution_count": 7,
   "metadata": {},
   "outputs": [],
   "source": [
    "def down_pages(url,cat,page):\n",
    "    imlinks = []\n",
    "    for p in range(1,page):\n",
    "        print(f\"Taking links from page-{p}\")\n",
    "        imlinks.append(takelinks(url+cat+\"page/\"+str(p)+\"/\"))\n",
    "    print(\"-\"*20)\n",
    "    flatten_links = sum(imlinks, [])\n",
    "    try:\n",
    "        os.mkdir(os.path.join(origin , str(cat)))\n",
    "    except:\n",
    "        pass\n",
    "    os.chdir(os.path.join(origin, str(cat)))\n",
    "    for url in flatten_links:\n",
    "        print(f\"Saving images of {url.split('/')[-2]}\")\n",
    "        downimg(url,url.split('/')[-2],cat)"
   ]
  },
  {
   "cell_type": "code",
   "execution_count": 11,
   "metadata": {},
   "outputs": [
    {
     "output_type": "stream",
     "name": "stdout",
     "text": [
      "Taking links from page-1\n",
      "Taking links from page-2\n",
      "Taking links from page-3\n",
      "--------------------\n",
      "Saving images of eda-s-5\n",
      "5 images are downloaded.\n",
      "--------------------\n",
      "Saving images of nihal-e\n",
      "5 images are downloaded.\n",
      "--------------------\n",
      "Saving images of nihan-altuncu-m\n",
      "6 images are downloaded.\n",
      "--------------------\n",
      "Saving images of eser-f\n",
      "7 images are downloaded.\n",
      "--------------------\n",
      "Saving images of gizem-o\n",
      "8 images are downloaded.\n",
      "--------------------\n",
      "Saving images of seher-o-3\n",
      "9 images are downloaded.\n",
      "--------------------\n",
      "Saving images of ezgi-k-4\n",
      "10 images are downloaded.\n",
      "--------------------\n",
      "Saving images of cansu-k-5\n",
      "10 images are downloaded.\n",
      "--------------------\n",
      "Saving images of selda-k\n",
      "5 images are downloaded.\n",
      "--------------------\n",
      "Saving images of elif-y\n",
      "5 images are downloaded.\n",
      "--------------------\n",
      "Saving images of maxim-s\n",
      "8 images are downloaded.\n",
      "--------------------\n",
      "Saving images of meryem-p\n",
      "6 images are downloaded.\n",
      "--------------------\n",
      "Saving images of pinar-a-2\n",
      "8 images are downloaded.\n",
      "--------------------\n",
      "Saving images of burcin-b\n",
      "6 images are downloaded.\n",
      "--------------------\n",
      "Saving images of cagla-k-3\n",
      "10 images are downloaded.\n",
      "--------------------\n",
      "Saving images of eda-u-2\n",
      "5 images are downloaded.\n",
      "--------------------\n",
      "Saving images of meklit-s\n",
      "9 images are downloaded.\n",
      "--------------------\n",
      "Saving images of yekta-e\n",
      "7 images are downloaded.\n",
      "--------------------\n",
      "Saving images of ozlem-a\n",
      "7 images are downloaded.\n",
      "--------------------\n",
      "Saving images of anastasia-p\n",
      "6 images are downloaded.\n",
      "--------------------\n",
      "Saving images of aleyna-m-2\n",
      "7 images are downloaded.\n",
      "--------------------\n",
      "Saving images of hale-s\n",
      "7 images are downloaded.\n",
      "--------------------\n",
      "Saving images of alara-a\n",
      "5 images are downloaded.\n",
      "--------------------\n",
      "Saving images of buse-u\n",
      "6 images are downloaded.\n",
      "--------------------\n",
      "Saving images of leyla-f\n",
      "8 images are downloaded.\n",
      "--------------------\n",
      "Saving images of rabia-aydan-k\n",
      "5 images are downloaded.\n",
      "--------------------\n",
      "Saving images of berfin-c\n",
      "7 images are downloaded.\n",
      "--------------------\n",
      "Saving images of didem-k\n",
      "8 images are downloaded.\n",
      "--------------------\n",
      "Saving images of buse-o-3\n",
      "6 images are downloaded.\n",
      "--------------------\n",
      "Saving images of canan-a-3\n",
      "7 images are downloaded.\n",
      "--------------------\n",
      "Saving images of saadet-b\n",
      "5 images are downloaded.\n",
      "--------------------\n",
      "Saving images of serpil-d\n",
      "6 images are downloaded.\n",
      "--------------------\n",
      "Saving images of serenay-k\n",
      "5 images are downloaded.\n",
      "--------------------\n",
      "Saving images of seren-o\n",
      "7 images are downloaded.\n",
      "--------------------\n",
      "Saving images of esra-aygun-o\n",
      "5 images are downloaded.\n",
      "--------------------\n",
      "Saving images of ilkay-e\n",
      "5 images are downloaded.\n",
      "--------------------\n"
     ]
    }
   ],
   "source": [
    "down_pages(url,kadin,4)"
   ]
  },
  {
   "cell_type": "code",
   "execution_count": null,
   "metadata": {},
   "outputs": [],
   "source": []
  }
 ]
}